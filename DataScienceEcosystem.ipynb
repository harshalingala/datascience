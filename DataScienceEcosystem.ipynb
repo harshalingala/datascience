{
 "cells": [
  {
   "cell_type": "markdown",
   "id": "1111e754",
   "metadata": {},
   "source": [
    "# Data Science Tools and Ecosystem"
   ]
  },
  {
   "cell_type": "markdown",
   "id": "93854d81",
   "metadata": {},
   "source": [
    "In this notebook, Data Science Tools and Ecosystem are summarized."
   ]
  },
  {
   "cell_type": "markdown",
   "id": "34c1c2b0",
   "metadata": {},
   "source": [
    "Objectives:\n",
    "- List popular languages in data science\n",
    "- List popular libraries in data science\n",
    "- List open data science development environment\n"
   ]
  },
  {
   "cell_type": "markdown",
   "id": "9e15f08b",
   "metadata": {},
   "source": [
    "Some of the popular languages that Data Scientists use are:\n",
    "1. Python\n",
    "2. R\n",
    "3. Julia\n"
   ]
  },
  {
   "attachments": {},
   "cell_type": "markdown",
   "id": "02d5d4d7",
   "metadata": {},
   "source": [
    "Some of the commonly used libraries used by Data Scientists include:\n",
    "1. numpy\n",
    "2. pandas\n",
    "3. scikit-Learn"
   ]
  },
  {
   "cell_type": "markdown",
   "id": "d1ff2b76",
   "metadata": {},
   "source": [
    "|Data Science Tools |\n",
    "|---:|\n",
    "| Jupyter notebooks |\n",
    "| Zeppelin notebooks |\n",
    "| R studio |"
   ]
  },
  {
   "cell_type": "markdown",
   "id": "bc6f8d63",
   "metadata": {},
   "source": [
    "### Below are a few examples of evaluating arithmetic expressions in Python"
   ]
  },
  {
   "cell_type": "code",
   "execution_count": 1,
   "id": "58984a5a",
   "metadata": {},
   "outputs": [
    {
     "data": {
      "text/plain": [
       "17"
      ]
     },
     "execution_count": 1,
     "metadata": {},
     "output_type": "execute_result"
    }
   ],
   "source": [
    "#This a simple arithmetic expression to mutiply then add integers\n",
    "(3*4)+5"
   ]
  },
  {
   "cell_type": "code",
   "execution_count": 2,
   "id": "3ae76acb",
   "metadata": {},
   "outputs": [
    {
     "data": {
      "text/plain": [
       "3.3333333333333335"
      ]
     },
     "execution_count": 2,
     "metadata": {},
     "output_type": "execute_result"
    }
   ],
   "source": [
    "#This will convert 200 minutes to hours by diving by 60\n",
    "200/60"
   ]
  },
  {
   "cell_type": "markdown",
   "id": "c86ccc90",
   "metadata": {},
   "source": [
    "## Author\n",
    "Harsha"
   ]
  }
 ],
 "metadata": {
  "kernelspec": {
   "display_name": "Python 3",
   "language": "python",
   "name": "python3"
  },
  "language_info": {
   "codemirror_mode": {
    "name": "ipython",
    "version": 3
   },
   "file_extension": ".py",
   "mimetype": "text/x-python",
   "name": "python",
   "nbconvert_exporter": "python",
   "pygments_lexer": "ipython3",
   "version": "3.8.8"
  }
 },
 "nbformat": 4,
 "nbformat_minor": 5
}
